{
 "cells": [
  {
   "cell_type": "markdown",
   "metadata": {},
   "source": [
    "# Raceplot"
   ]
  },
  {
   "cell_type": "code",
   "execution_count": 97,
   "metadata": {},
   "outputs": [],
   "source": [
    "#Paqueterias\n",
    "import pandas as pd\n",
    "import matplotlib.pyplot as plt\n",
    "import seaborn as sns\n",
    "import numpy as np\n",
    "import plotly.express as px\n",
    "import plotly.graph_objects as go\n",
    "from raceplotly.plots import barplot \n",
    "\n",
    "pd.options.display.float_format = '{:,.2f}'.format\n",
    "input_path='/Users/ivanjardon/Downloads/'\n",
    "output_path='/Users/ivanjardon/Documents/'"
   ]
  },
  {
   "cell_type": "code",
   "execution_count": 112,
   "metadata": {},
   "outputs": [],
   "source": [
    "#Leer datos\n",
    "us=pd.read_csv(input_path+'US DATA.csv')\n",
    "us=us[us['month']!='2021-02']"
   ]
  },
  {
   "cell_type": "code",
   "execution_count": 114,
   "metadata": {},
   "outputs": [
    {
     "data": {
      "application/vnd.plotly.v1+json": {
       "config": {
        "plotlyServerURL": "https://plot.ly"
       },
       "data": [
        {
         "cliponaxis": false,
         "hoverinfo": "all",
         "marker": {
          "color": [
           "rgb(0, 234, 53)",
           "rgb(189, 23, 134)",
           "rgb(35, 46, 221)",
           "rgb(91, 229, 146)",
           "rgb(41, 210, 207)",
           "rgb(220, 230, 46)",
           "rgb(171, 70, 192)",
           "rgb(99, 96, 180)",
           "rgb(182, 29, 21)",
           "rgb(157, 154, 92)"
          ]
         },
         "orientation": "h",
         "textangle": 0,
         "textposition": "outside",
         "texttemplate": "%{y}<br>%{x:.4s}",
         "type": "bar",
         "x": [
          535,
          579,
          1326,
          1499,
          1770,
          2371,
          2439,
          2880,
          4688,
          13352
         ],
         "y": [
          "Morton Williams",
          "D'Agostino",
          "Westside Market",
          "Gristedes",
          "Albertsons",
          "Fresco y Más",
          "Fiesta Mart",
          "Randalls",
          "Tom Thumb",
          "Winn-Dixie"
         ]
        }
       ],
       "frames": [
        {
         "data": [
          {
           "cliponaxis": false,
           "hoverinfo": "all",
           "hovertemplate": "<extra></extra>",
           "marker": {
            "color": [
             "rgb(150, 113, 37)"
            ]
           },
           "orientation": "h",
           "textangle": 0,
           "textposition": "outside",
           "texttemplate": "%{y}<br>%{x:.4s}",
           "type": "bar",
           "x": [
            2
           ],
           "y": [
            "Safeway"
           ]
          }
         ],
         "layout": {
          "bargap": 0.15,
          "font": {
           "size": 14
          },
          "plot_bgcolor": "#FFFFFF",
          "title": {
           "text": "Top 10 stores across the time"
          },
          "xaxis": {
           "range": [
            0,
            13352
           ],
           "showline": true,
           "visible": true
          },
          "yaxis": {
           "showline": false,
           "visible": true
          }
         },
         "name": "2020-03"
        },
        {
         "data": [
          {
           "cliponaxis": false,
           "hoverinfo": "all",
           "hovertemplate": "<extra></extra>",
           "marker": {
            "color": [
             "rgb(242, 122, 232)",
             "rgb(175, 246, 183)",
             "rgb(5, 239, 53)",
             "rgb(42, 58, 167)",
             "rgb(98, 47, 1)",
             "rgb(162, 34, 54)",
             "rgb(182, 29, 21)",
             "rgb(217, 176, 20)",
             "rgb(43, 25, 160)",
             "rgb(85, 54, 187)"
            ]
           },
           "orientation": "h",
           "textangle": 0,
           "textposition": "outside",
           "texttemplate": "%{y}<br>%{x:.4s}",
           "type": "bar",
           "x": [
            3,
            4,
            5,
            10,
            14,
            21,
            22,
            30,
            100,
            185
           ],
           "y": [
            "Wild Fork",
            "Sam's Club",
            "Panna",
            "ALDI",
            "Publix Super Market",
            "Sedano's Supermarket",
            "Tom Thumb",
            "Central Market",
            "Target",
            "Walmart"
           ]
          }
         ],
         "layout": {
          "bargap": 0.15,
          "font": {
           "size": 14
          },
          "plot_bgcolor": "#FFFFFF",
          "title": {
           "text": "Top 10 stores across the time"
          },
          "xaxis": {
           "range": [
            0,
            13352
           ],
           "showline": true,
           "visible": true
          },
          "yaxis": {
           "showline": false,
           "visible": true
          }
         },
         "name": "2020-04"
        },
        {
         "data": [
          {
           "cliponaxis": false,
           "hoverinfo": "all",
           "hovertemplate": "<extra></extra>",
           "marker": {
            "color": [
             "rgb(179, 63, 25)",
             "rgb(43, 25, 160)",
             "rgb(217, 176, 20)",
             "rgb(91, 112, 210)",
             "rgb(147, 149, 226)",
             "rgb(242, 122, 232)",
             "rgb(138, 25, 221)",
             "rgb(42, 58, 167)",
             "rgb(98, 47, 1)",
             "rgb(85, 54, 187)"
            ]
           },
           "orientation": "h",
           "textangle": 0,
           "textposition": "outside",
           "texttemplate": "%{y}<br>%{x:.4s}",
           "type": "bar",
           "x": [
            23,
            29,
            33,
            36,
            40,
            42,
            51,
            135,
            213,
            745
           ],
           "y": [
            "Milam's Markets",
            "Target",
            "Central Market",
            "Costco",
            "Eatzi’s Market & Bakery Oak Lawn",
            "Wild Fork",
            "Kroger",
            "ALDI",
            "Publix Super Market",
            "Walmart"
           ]
          }
         ],
         "layout": {
          "bargap": 0.15,
          "font": {
           "size": 14
          },
          "plot_bgcolor": "#FFFFFF",
          "title": {
           "text": "Top 10 stores across the time"
          },
          "xaxis": {
           "range": [
            0,
            13352
           ],
           "showline": true,
           "visible": true
          },
          "yaxis": {
           "showline": false,
           "visible": true
          }
         },
         "name": "2020-05"
        },
        {
         "data": [
          {
           "cliponaxis": false,
           "hoverinfo": "all",
           "hovertemplate": "<extra></extra>",
           "marker": {
            "color": [
             "rgb(102, 192, 74)",
             "rgb(244, 40, 123)",
             "rgb(15, 157, 4)",
             "rgb(175, 246, 183)",
             "rgb(86, 227, 13)",
             "rgb(242, 122, 232)",
             "rgb(147, 149, 226)",
             "rgb(43, 25, 160)",
             "rgb(163, 229, 41)",
             "rgb(85, 54, 187)"
            ]
           },
           "orientation": "h",
           "textangle": 0,
           "textposition": "outside",
           "texttemplate": "%{y}<br>%{x:.4s}",
           "type": "bar",
           "x": [
            8,
            8,
            9,
            14,
            25,
            33,
            36,
            93,
            113,
            648
           ],
           "y": [
            "Petco",
            "Graziano's",
            "Fireman Derek's",
            "Sam's Club",
            "Sabor Tropical Supermarket",
            "Wild Fork",
            "Eatzi’s Market & Bakery Oak Lawn",
            "Target",
            "Supermarket Express",
            "Walmart"
           ]
          }
         ],
         "layout": {
          "bargap": 0.15,
          "font": {
           "size": 14
          },
          "plot_bgcolor": "#FFFFFF",
          "title": {
           "text": "Top 10 stores across the time"
          },
          "xaxis": {
           "range": [
            0,
            13352
           ],
           "showline": true,
           "visible": true
          },
          "yaxis": {
           "showline": false,
           "visible": true
          }
         },
         "name": "2020-06"
        },
        {
         "data": [
          {
           "cliponaxis": false,
           "hoverinfo": "all",
           "hovertemplate": "<extra></extra>",
           "marker": {
            "color": [
             "rgb(245, 210, 21)",
             "rgb(8, 43, 122)",
             "rgb(244, 40, 123)",
             "rgb(19, 74, 99)",
             "rgb(27, 97, 122)",
             "rgb(86, 227, 13)",
             "rgb(147, 149, 226)",
             "rgb(242, 122, 232)",
             "rgb(157, 154, 92)",
             "rgb(163, 229, 41)"
            ]
           },
           "orientation": "h",
           "textangle": 0,
           "textposition": "outside",
           "texttemplate": "%{y}<br>%{x:.4s}",
           "type": "bar",
           "x": [
            6,
            6,
            8,
            8,
            8,
            20,
            32,
            35,
            96,
            398
           ],
           "y": [
            "Gourmeat",
            "Foxtrot Market Uptown",
            "Graziano's",
            "San Martin Bakery Uptown",
            "Casa Blanca Fish Market",
            "Sabor Tropical Supermarket",
            "Eatzi’s Market & Bakery Oak Lawn",
            "Wild Fork",
            "Winn-Dixie",
            "Supermarket Express"
           ]
          }
         ],
         "layout": {
          "bargap": 0.15,
          "font": {
           "size": 14
          },
          "plot_bgcolor": "#FFFFFF",
          "title": {
           "text": "Top 10 stores across the time"
          },
          "xaxis": {
           "range": [
            0,
            13352
           ],
           "showline": true,
           "visible": true
          },
          "yaxis": {
           "showline": false,
           "visible": true
          }
         },
         "name": "2020-07"
        },
        {
         "data": [
          {
           "cliponaxis": false,
           "hoverinfo": "all",
           "hovertemplate": "<extra></extra>",
           "marker": {
            "color": [
             "rgb(84, 122, 157)",
             "rgb(188, 157, 130)",
             "rgb(29, 23, 241)",
             "rgb(237, 107, 216)",
             "rgb(19, 74, 99)",
             "rgb(102, 192, 74)",
             "rgb(147, 149, 226)",
             "rgb(220, 230, 46)",
             "rgb(157, 154, 92)",
             "rgb(163, 229, 41)"
            ]
           },
           "orientation": "h",
           "textangle": 0,
           "textposition": "outside",
           "texttemplate": "%{y}<br>%{x:.4s}",
           "type": "bar",
           "x": [
            5,
            5,
            6,
            6,
            7,
            13,
            32,
            81,
            253,
            361
           ],
           "y": [
            "Smallcakes Preston",
            "Zerpa's Antojos Criollos",
            "Meat N' Bone",
            "Lombardi's Seafood",
            "San Martin Bakery Uptown",
            "Petco",
            "Eatzi’s Market & Bakery Oak Lawn",
            "Fresco y Más",
            "Winn-Dixie",
            "Supermarket Express"
           ]
          }
         ],
         "layout": {
          "bargap": 0.15,
          "font": {
           "size": 14
          },
          "plot_bgcolor": "#FFFFFF",
          "title": {
           "text": "Top 10 stores across the time"
          },
          "xaxis": {
           "range": [
            0,
            13352
           ],
           "showline": true,
           "visible": true
          },
          "yaxis": {
           "showline": false,
           "visible": true
          }
         },
         "name": "2020-08"
        },
        {
         "data": [
          {
           "cliponaxis": false,
           "hoverinfo": "all",
           "hovertemplate": "<extra></extra>",
           "marker": {
            "color": [
             "rgb(237, 107, 216)",
             "rgb(113, 197, 144)",
             "rgb(188, 157, 130)",
             "rgb(244, 40, 123)",
             "rgb(29, 23, 241)",
             "rgb(147, 149, 226)",
             "rgb(102, 192, 74)",
             "rgb(163, 229, 41)",
             "rgb(220, 230, 46)",
             "rgb(157, 154, 92)"
            ]
           },
           "orientation": "h",
           "textangle": 0,
           "textposition": "outside",
           "texttemplate": "%{y}<br>%{x:.4s}",
           "type": "bar",
           "x": [
            18,
            19,
            34,
            34,
            59,
            86,
            109,
            191,
            769,
            2285
           ],
           "y": [
            "Lombardi's Seafood",
            "Farm2cook",
            "Zerpa's Antojos Criollos",
            "Graziano's",
            "Meat N' Bone",
            "Eatzi’s Market & Bakery Oak Lawn",
            "Petco",
            "Supermarket Express",
            "Fresco y Más",
            "Winn-Dixie"
           ]
          }
         ],
         "layout": {
          "bargap": 0.15,
          "font": {
           "size": 14
          },
          "plot_bgcolor": "#FFFFFF",
          "title": {
           "text": "Top 10 stores across the time"
          },
          "xaxis": {
           "range": [
            0,
            13352
           ],
           "showline": true,
           "visible": true
          },
          "yaxis": {
           "showline": false,
           "visible": true
          }
         },
         "name": "2020-09"
        },
        {
         "data": [
          {
           "cliponaxis": false,
           "hoverinfo": "all",
           "hovertemplate": "<extra></extra>",
           "marker": {
            "color": [
             "rgb(182, 29, 21)",
             "rgb(244, 40, 123)",
             "rgb(189, 23, 134)",
             "rgb(75, 48, 94)",
             "rgb(147, 149, 226)",
             "rgb(102, 192, 74)",
             "rgb(91, 229, 146)",
             "rgb(35, 46, 221)",
             "rgb(220, 230, 46)",
             "rgb(157, 154, 92)"
            ]
           },
           "orientation": "h",
           "textangle": 0,
           "textposition": "outside",
           "texttemplate": "%{y}<br>%{x:.4s}",
           "type": "bar",
           "x": [
            84,
            95,
            104,
            105,
            126,
            130,
            184,
            787,
            1722,
            6606
           ],
           "y": [
            "Tom Thumb",
            "Graziano's",
            "D'Agostino",
            "Cox Farms Market",
            "Eatzi’s Market & Bakery Oak Lawn",
            "Petco",
            "Gristedes",
            "Westside Market",
            "Fresco y Más",
            "Winn-Dixie"
           ]
          }
         ],
         "layout": {
          "bargap": 0.15,
          "font": {
           "size": 14
          },
          "plot_bgcolor": "#FFFFFF",
          "title": {
           "text": "Top 10 stores across the time"
          },
          "xaxis": {
           "range": [
            0,
            13352
           ],
           "showline": true,
           "visible": true
          },
          "yaxis": {
           "showline": false,
           "visible": true
          }
         },
         "name": "2020-10"
        },
        {
         "data": [
          {
           "cliponaxis": false,
           "hoverinfo": "all",
           "hovertemplate": "<extra></extra>",
           "marker": {
            "color": [
             "rgb(244, 40, 123)",
             "rgb(189, 23, 134)",
             "rgb(91, 229, 146)",
             "rgb(171, 70, 192)",
             "rgb(41, 210, 207)",
             "rgb(35, 46, 221)",
             "rgb(99, 96, 180)",
             "rgb(220, 230, 46)",
             "rgb(182, 29, 21)",
             "rgb(157, 154, 92)"
            ]
           },
           "orientation": "h",
           "textangle": 0,
           "textposition": "outside",
           "texttemplate": "%{y}<br>%{x:.4s}",
           "type": "bar",
           "x": [
            97,
            436,
            674,
            710,
            740,
            1170,
            1357,
            1771,
            2340,
            8520
           ],
           "y": [
            "Graziano's",
            "D'Agostino",
            "Gristedes",
            "Fiesta Mart",
            "Albertsons",
            "Westside Market",
            "Randalls",
            "Fresco y Más",
            "Tom Thumb",
            "Winn-Dixie"
           ]
          }
         ],
         "layout": {
          "bargap": 0.15,
          "font": {
           "size": 14
          },
          "plot_bgcolor": "#FFFFFF",
          "title": {
           "text": "Top 10 stores across the time"
          },
          "xaxis": {
           "range": [
            0,
            13352
           ],
           "showline": true,
           "visible": true
          },
          "yaxis": {
           "showline": false,
           "visible": true
          }
         },
         "name": "2020-11"
        },
        {
         "data": [
          {
           "cliponaxis": false,
           "hoverinfo": "all",
           "hovertemplate": "<extra></extra>",
           "marker": {
            "color": [
             "rgb(122, 42, 189)",
             "rgb(189, 23, 134)",
             "rgb(91, 229, 146)",
             "rgb(41, 210, 207)",
             "rgb(35, 46, 221)",
             "rgb(171, 70, 192)",
             "rgb(99, 96, 180)",
             "rgb(220, 230, 46)",
             "rgb(182, 29, 21)",
             "rgb(157, 154, 92)"
            ]
           },
           "orientation": "h",
           "textangle": 0,
           "textposition": "outside",
           "texttemplate": "%{y}<br>%{x:.4s}",
           "type": "bar",
           "x": [
            230,
            508,
            955,
            1152,
            1176,
            1291,
            1776,
            1876,
            3381,
            9892
           ],
           "y": [
            "Streets Market",
            "D'Agostino",
            "Gristedes",
            "Albertsons",
            "Westside Market",
            "Fiesta Mart",
            "Randalls",
            "Fresco y Más",
            "Tom Thumb",
            "Winn-Dixie"
           ]
          }
         ],
         "layout": {
          "bargap": 0.15,
          "font": {
           "size": 14
          },
          "plot_bgcolor": "#FFFFFF",
          "title": {
           "text": "Top 10 stores across the time"
          },
          "xaxis": {
           "range": [
            0,
            13352
           ],
           "showline": true,
           "visible": true
          },
          "yaxis": {
           "showline": false,
           "visible": true
          }
         },
         "name": "2020-12"
        },
        {
         "data": [
          {
           "cliponaxis": false,
           "hoverinfo": "all",
           "hovertemplate": "<extra></extra>",
           "marker": {
            "color": [
             "rgb(0, 234, 53)",
             "rgb(189, 23, 134)",
             "rgb(35, 46, 221)",
             "rgb(91, 229, 146)",
             "rgb(41, 210, 207)",
             "rgb(220, 230, 46)",
             "rgb(171, 70, 192)",
             "rgb(99, 96, 180)",
             "rgb(182, 29, 21)",
             "rgb(157, 154, 92)"
            ]
           },
           "orientation": "h",
           "textangle": 0,
           "textposition": "outside",
           "texttemplate": "%{y}<br>%{x:.4s}",
           "type": "bar",
           "x": [
            535,
            579,
            1326,
            1499,
            1770,
            2371,
            2439,
            2880,
            4688,
            13352
           ],
           "y": [
            "Morton Williams",
            "D'Agostino",
            "Westside Market",
            "Gristedes",
            "Albertsons",
            "Fresco y Más",
            "Fiesta Mart",
            "Randalls",
            "Tom Thumb",
            "Winn-Dixie"
           ]
          }
         ],
         "layout": {
          "bargap": 0.15,
          "font": {
           "size": 14
          },
          "plot_bgcolor": "#FFFFFF",
          "title": {
           "text": "Top 10 stores across the time"
          },
          "xaxis": {
           "range": [
            0,
            13352
           ],
           "showline": true,
           "visible": true
          },
          "yaxis": {
           "showline": false,
           "visible": true
          }
         },
         "name": "2021-01"
        }
       ],
       "layout": {
        "bargap": 0.15,
        "font": {
         "size": 14
        },
        "plot_bgcolor": "#FFFFFF",
        "sliders": [
         {
          "active": 0,
          "currentvalue": {
           "font": {
            "size": 20
           },
           "prefix": "Date: ",
           "visible": true,
           "xanchor": "right"
          },
          "len": 0.9,
          "pad": {
           "b": 10,
           "t": 50
          },
          "steps": [
           {
            "args": [
             [
              "2020-03"
             ],
             {
              "frame": {
               "duration": 800,
               "redraw": false
              },
              "mode": "immediate",
              "transition": {
               "duration": 800
              }
             }
            ],
            "label": "2020-03",
            "method": "animate"
           },
           {
            "args": [
             [
              "2020-04"
             ],
             {
              "frame": {
               "duration": 800,
               "redraw": false
              },
              "mode": "immediate",
              "transition": {
               "duration": 800
              }
             }
            ],
            "label": "2020-04",
            "method": "animate"
           },
           {
            "args": [
             [
              "2020-05"
             ],
             {
              "frame": {
               "duration": 800,
               "redraw": false
              },
              "mode": "immediate",
              "transition": {
               "duration": 800
              }
             }
            ],
            "label": "2020-05",
            "method": "animate"
           },
           {
            "args": [
             [
              "2020-06"
             ],
             {
              "frame": {
               "duration": 800,
               "redraw": false
              },
              "mode": "immediate",
              "transition": {
               "duration": 800
              }
             }
            ],
            "label": "2020-06",
            "method": "animate"
           },
           {
            "args": [
             [
              "2020-07"
             ],
             {
              "frame": {
               "duration": 800,
               "redraw": false
              },
              "mode": "immediate",
              "transition": {
               "duration": 800
              }
             }
            ],
            "label": "2020-07",
            "method": "animate"
           },
           {
            "args": [
             [
              "2020-08"
             ],
             {
              "frame": {
               "duration": 800,
               "redraw": false
              },
              "mode": "immediate",
              "transition": {
               "duration": 800
              }
             }
            ],
            "label": "2020-08",
            "method": "animate"
           },
           {
            "args": [
             [
              "2020-09"
             ],
             {
              "frame": {
               "duration": 800,
               "redraw": false
              },
              "mode": "immediate",
              "transition": {
               "duration": 800
              }
             }
            ],
            "label": "2020-09",
            "method": "animate"
           },
           {
            "args": [
             [
              "2020-10"
             ],
             {
              "frame": {
               "duration": 800,
               "redraw": false
              },
              "mode": "immediate",
              "transition": {
               "duration": 800
              }
             }
            ],
            "label": "2020-10",
            "method": "animate"
           },
           {
            "args": [
             [
              "2020-11"
             ],
             {
              "frame": {
               "duration": 800,
               "redraw": false
              },
              "mode": "immediate",
              "transition": {
               "duration": 800
              }
             }
            ],
            "label": "2020-11",
            "method": "animate"
           },
           {
            "args": [
             [
              "2020-12"
             ],
             {
              "frame": {
               "duration": 800,
               "redraw": false
              },
              "mode": "immediate",
              "transition": {
               "duration": 800
              }
             }
            ],
            "label": "2020-12",
            "method": "animate"
           },
           {
            "args": [
             [
              "2021-01"
             ],
             {
              "frame": {
               "duration": 800,
               "redraw": false
              },
              "mode": "immediate",
              "transition": {
               "duration": 800
              }
             }
            ],
            "label": "2021-01",
            "method": "animate"
           }
          ],
          "transition": {
           "duration": 300,
           "easing": "cubic-in-out"
          },
          "x": 0.1,
          "xanchor": "left",
          "y": 0,
          "yanchor": "top"
         }
        ],
        "template": {
         "data": {
          "bar": [
           {
            "error_x": {
             "color": "#2a3f5f"
            },
            "error_y": {
             "color": "#2a3f5f"
            },
            "marker": {
             "line": {
              "color": "#E5ECF6",
              "width": 0.5
             }
            },
            "type": "bar"
           }
          ],
          "barpolar": [
           {
            "marker": {
             "line": {
              "color": "#E5ECF6",
              "width": 0.5
             }
            },
            "type": "barpolar"
           }
          ],
          "carpet": [
           {
            "aaxis": {
             "endlinecolor": "#2a3f5f",
             "gridcolor": "white",
             "linecolor": "white",
             "minorgridcolor": "white",
             "startlinecolor": "#2a3f5f"
            },
            "baxis": {
             "endlinecolor": "#2a3f5f",
             "gridcolor": "white",
             "linecolor": "white",
             "minorgridcolor": "white",
             "startlinecolor": "#2a3f5f"
            },
            "type": "carpet"
           }
          ],
          "choropleth": [
           {
            "colorbar": {
             "outlinewidth": 0,
             "ticks": ""
            },
            "type": "choropleth"
           }
          ],
          "contour": [
           {
            "colorbar": {
             "outlinewidth": 0,
             "ticks": ""
            },
            "colorscale": [
             [
              0,
              "#0d0887"
             ],
             [
              0.1111111111111111,
              "#46039f"
             ],
             [
              0.2222222222222222,
              "#7201a8"
             ],
             [
              0.3333333333333333,
              "#9c179e"
             ],
             [
              0.4444444444444444,
              "#bd3786"
             ],
             [
              0.5555555555555556,
              "#d8576b"
             ],
             [
              0.6666666666666666,
              "#ed7953"
             ],
             [
              0.7777777777777778,
              "#fb9f3a"
             ],
             [
              0.8888888888888888,
              "#fdca26"
             ],
             [
              1,
              "#f0f921"
             ]
            ],
            "type": "contour"
           }
          ],
          "contourcarpet": [
           {
            "colorbar": {
             "outlinewidth": 0,
             "ticks": ""
            },
            "type": "contourcarpet"
           }
          ],
          "heatmap": [
           {
            "colorbar": {
             "outlinewidth": 0,
             "ticks": ""
            },
            "colorscale": [
             [
              0,
              "#0d0887"
             ],
             [
              0.1111111111111111,
              "#46039f"
             ],
             [
              0.2222222222222222,
              "#7201a8"
             ],
             [
              0.3333333333333333,
              "#9c179e"
             ],
             [
              0.4444444444444444,
              "#bd3786"
             ],
             [
              0.5555555555555556,
              "#d8576b"
             ],
             [
              0.6666666666666666,
              "#ed7953"
             ],
             [
              0.7777777777777778,
              "#fb9f3a"
             ],
             [
              0.8888888888888888,
              "#fdca26"
             ],
             [
              1,
              "#f0f921"
             ]
            ],
            "type": "heatmap"
           }
          ],
          "heatmapgl": [
           {
            "colorbar": {
             "outlinewidth": 0,
             "ticks": ""
            },
            "colorscale": [
             [
              0,
              "#0d0887"
             ],
             [
              0.1111111111111111,
              "#46039f"
             ],
             [
              0.2222222222222222,
              "#7201a8"
             ],
             [
              0.3333333333333333,
              "#9c179e"
             ],
             [
              0.4444444444444444,
              "#bd3786"
             ],
             [
              0.5555555555555556,
              "#d8576b"
             ],
             [
              0.6666666666666666,
              "#ed7953"
             ],
             [
              0.7777777777777778,
              "#fb9f3a"
             ],
             [
              0.8888888888888888,
              "#fdca26"
             ],
             [
              1,
              "#f0f921"
             ]
            ],
            "type": "heatmapgl"
           }
          ],
          "histogram": [
           {
            "marker": {
             "colorbar": {
              "outlinewidth": 0,
              "ticks": ""
             }
            },
            "type": "histogram"
           }
          ],
          "histogram2d": [
           {
            "colorbar": {
             "outlinewidth": 0,
             "ticks": ""
            },
            "colorscale": [
             [
              0,
              "#0d0887"
             ],
             [
              0.1111111111111111,
              "#46039f"
             ],
             [
              0.2222222222222222,
              "#7201a8"
             ],
             [
              0.3333333333333333,
              "#9c179e"
             ],
             [
              0.4444444444444444,
              "#bd3786"
             ],
             [
              0.5555555555555556,
              "#d8576b"
             ],
             [
              0.6666666666666666,
              "#ed7953"
             ],
             [
              0.7777777777777778,
              "#fb9f3a"
             ],
             [
              0.8888888888888888,
              "#fdca26"
             ],
             [
              1,
              "#f0f921"
             ]
            ],
            "type": "histogram2d"
           }
          ],
          "histogram2dcontour": [
           {
            "colorbar": {
             "outlinewidth": 0,
             "ticks": ""
            },
            "colorscale": [
             [
              0,
              "#0d0887"
             ],
             [
              0.1111111111111111,
              "#46039f"
             ],
             [
              0.2222222222222222,
              "#7201a8"
             ],
             [
              0.3333333333333333,
              "#9c179e"
             ],
             [
              0.4444444444444444,
              "#bd3786"
             ],
             [
              0.5555555555555556,
              "#d8576b"
             ],
             [
              0.6666666666666666,
              "#ed7953"
             ],
             [
              0.7777777777777778,
              "#fb9f3a"
             ],
             [
              0.8888888888888888,
              "#fdca26"
             ],
             [
              1,
              "#f0f921"
             ]
            ],
            "type": "histogram2dcontour"
           }
          ],
          "mesh3d": [
           {
            "colorbar": {
             "outlinewidth": 0,
             "ticks": ""
            },
            "type": "mesh3d"
           }
          ],
          "parcoords": [
           {
            "line": {
             "colorbar": {
              "outlinewidth": 0,
              "ticks": ""
             }
            },
            "type": "parcoords"
           }
          ],
          "pie": [
           {
            "automargin": true,
            "type": "pie"
           }
          ],
          "scatter": [
           {
            "marker": {
             "colorbar": {
              "outlinewidth": 0,
              "ticks": ""
             }
            },
            "type": "scatter"
           }
          ],
          "scatter3d": [
           {
            "line": {
             "colorbar": {
              "outlinewidth": 0,
              "ticks": ""
             }
            },
            "marker": {
             "colorbar": {
              "outlinewidth": 0,
              "ticks": ""
             }
            },
            "type": "scatter3d"
           }
          ],
          "scattercarpet": [
           {
            "marker": {
             "colorbar": {
              "outlinewidth": 0,
              "ticks": ""
             }
            },
            "type": "scattercarpet"
           }
          ],
          "scattergeo": [
           {
            "marker": {
             "colorbar": {
              "outlinewidth": 0,
              "ticks": ""
             }
            },
            "type": "scattergeo"
           }
          ],
          "scattergl": [
           {
            "marker": {
             "colorbar": {
              "outlinewidth": 0,
              "ticks": ""
             }
            },
            "type": "scattergl"
           }
          ],
          "scattermapbox": [
           {
            "marker": {
             "colorbar": {
              "outlinewidth": 0,
              "ticks": ""
             }
            },
            "type": "scattermapbox"
           }
          ],
          "scatterpolar": [
           {
            "marker": {
             "colorbar": {
              "outlinewidth": 0,
              "ticks": ""
             }
            },
            "type": "scatterpolar"
           }
          ],
          "scatterpolargl": [
           {
            "marker": {
             "colorbar": {
              "outlinewidth": 0,
              "ticks": ""
             }
            },
            "type": "scatterpolargl"
           }
          ],
          "scatterternary": [
           {
            "marker": {
             "colorbar": {
              "outlinewidth": 0,
              "ticks": ""
             }
            },
            "type": "scatterternary"
           }
          ],
          "surface": [
           {
            "colorbar": {
             "outlinewidth": 0,
             "ticks": ""
            },
            "colorscale": [
             [
              0,
              "#0d0887"
             ],
             [
              0.1111111111111111,
              "#46039f"
             ],
             [
              0.2222222222222222,
              "#7201a8"
             ],
             [
              0.3333333333333333,
              "#9c179e"
             ],
             [
              0.4444444444444444,
              "#bd3786"
             ],
             [
              0.5555555555555556,
              "#d8576b"
             ],
             [
              0.6666666666666666,
              "#ed7953"
             ],
             [
              0.7777777777777778,
              "#fb9f3a"
             ],
             [
              0.8888888888888888,
              "#fdca26"
             ],
             [
              1,
              "#f0f921"
             ]
            ],
            "type": "surface"
           }
          ],
          "table": [
           {
            "cells": {
             "fill": {
              "color": "#EBF0F8"
             },
             "line": {
              "color": "white"
             }
            },
            "header": {
             "fill": {
              "color": "#C8D4E3"
             },
             "line": {
              "color": "white"
             }
            },
            "type": "table"
           }
          ]
         },
         "layout": {
          "annotationdefaults": {
           "arrowcolor": "#2a3f5f",
           "arrowhead": 0,
           "arrowwidth": 1
          },
          "autotypenumbers": "strict",
          "coloraxis": {
           "colorbar": {
            "outlinewidth": 0,
            "ticks": ""
           }
          },
          "colorscale": {
           "diverging": [
            [
             0,
             "#8e0152"
            ],
            [
             0.1,
             "#c51b7d"
            ],
            [
             0.2,
             "#de77ae"
            ],
            [
             0.3,
             "#f1b6da"
            ],
            [
             0.4,
             "#fde0ef"
            ],
            [
             0.5,
             "#f7f7f7"
            ],
            [
             0.6,
             "#e6f5d0"
            ],
            [
             0.7,
             "#b8e186"
            ],
            [
             0.8,
             "#7fbc41"
            ],
            [
             0.9,
             "#4d9221"
            ],
            [
             1,
             "#276419"
            ]
           ],
           "sequential": [
            [
             0,
             "#0d0887"
            ],
            [
             0.1111111111111111,
             "#46039f"
            ],
            [
             0.2222222222222222,
             "#7201a8"
            ],
            [
             0.3333333333333333,
             "#9c179e"
            ],
            [
             0.4444444444444444,
             "#bd3786"
            ],
            [
             0.5555555555555556,
             "#d8576b"
            ],
            [
             0.6666666666666666,
             "#ed7953"
            ],
            [
             0.7777777777777778,
             "#fb9f3a"
            ],
            [
             0.8888888888888888,
             "#fdca26"
            ],
            [
             1,
             "#f0f921"
            ]
           ],
           "sequentialminus": [
            [
             0,
             "#0d0887"
            ],
            [
             0.1111111111111111,
             "#46039f"
            ],
            [
             0.2222222222222222,
             "#7201a8"
            ],
            [
             0.3333333333333333,
             "#9c179e"
            ],
            [
             0.4444444444444444,
             "#bd3786"
            ],
            [
             0.5555555555555556,
             "#d8576b"
            ],
            [
             0.6666666666666666,
             "#ed7953"
            ],
            [
             0.7777777777777778,
             "#fb9f3a"
            ],
            [
             0.8888888888888888,
             "#fdca26"
            ],
            [
             1,
             "#f0f921"
            ]
           ]
          },
          "colorway": [
           "#636efa",
           "#EF553B",
           "#00cc96",
           "#ab63fa",
           "#FFA15A",
           "#19d3f3",
           "#FF6692",
           "#B6E880",
           "#FF97FF",
           "#FECB52"
          ],
          "font": {
           "color": "#2a3f5f"
          },
          "geo": {
           "bgcolor": "white",
           "lakecolor": "white",
           "landcolor": "#E5ECF6",
           "showlakes": true,
           "showland": true,
           "subunitcolor": "white"
          },
          "hoverlabel": {
           "align": "left"
          },
          "hovermode": "closest",
          "mapbox": {
           "style": "light"
          },
          "paper_bgcolor": "white",
          "plot_bgcolor": "#E5ECF6",
          "polar": {
           "angularaxis": {
            "gridcolor": "white",
            "linecolor": "white",
            "ticks": ""
           },
           "bgcolor": "#E5ECF6",
           "radialaxis": {
            "gridcolor": "white",
            "linecolor": "white",
            "ticks": ""
           }
          },
          "scene": {
           "xaxis": {
            "backgroundcolor": "#E5ECF6",
            "gridcolor": "white",
            "gridwidth": 2,
            "linecolor": "white",
            "showbackground": true,
            "ticks": "",
            "zerolinecolor": "white"
           },
           "yaxis": {
            "backgroundcolor": "#E5ECF6",
            "gridcolor": "white",
            "gridwidth": 2,
            "linecolor": "white",
            "showbackground": true,
            "ticks": "",
            "zerolinecolor": "white"
           },
           "zaxis": {
            "backgroundcolor": "#E5ECF6",
            "gridcolor": "white",
            "gridwidth": 2,
            "linecolor": "white",
            "showbackground": true,
            "ticks": "",
            "zerolinecolor": "white"
           }
          },
          "shapedefaults": {
           "line": {
            "color": "#2a3f5f"
           }
          },
          "ternary": {
           "aaxis": {
            "gridcolor": "white",
            "linecolor": "white",
            "ticks": ""
           },
           "baxis": {
            "gridcolor": "white",
            "linecolor": "white",
            "ticks": ""
           },
           "bgcolor": "#E5ECF6",
           "caxis": {
            "gridcolor": "white",
            "linecolor": "white",
            "ticks": ""
           }
          },
          "title": {
           "x": 0.05
          },
          "xaxis": {
           "automargin": true,
           "gridcolor": "white",
           "linecolor": "white",
           "ticks": "",
           "title": {
            "standoff": 15
           },
           "zerolinecolor": "white",
           "zerolinewidth": 2
          },
          "yaxis": {
           "automargin": true,
           "gridcolor": "white",
           "linecolor": "white",
           "ticks": "",
           "title": {
            "standoff": 15
           },
           "zerolinecolor": "white",
           "zerolinewidth": 2
          }
         }
        },
        "title": {
         "text": "Top 10 stores across the time"
        },
        "updatemenus": [
         {
          "buttons": [
           {
            "args": [
             null,
             {
              "frame": {
               "duration": 800,
               "redraw": false
              },
              "fromcurrent": true,
              "transition": {
               "duration": 800,
               "easing": "quadratic-in-out"
              }
             }
            ],
            "label": "Play",
            "method": "animate"
           },
           {
            "args": [
             [
              null
             ],
             {
              "frame": {
               "duration": 0,
               "redraw": false
              },
              "mode": "immediate",
              "transition": {
               "duration": 0
              }
             }
            ],
            "label": "Pause",
            "method": "animate"
           }
          ],
          "direction": "left",
          "pad": {
           "r": 10,
           "t": 87
          },
          "showactive": true,
          "type": "buttons",
          "x": 0.1,
          "xanchor": "right",
          "y": 0,
          "yanchor": "top"
         }
        ],
        "xaxis": {
         "range": [
          0,
          13352
         ],
         "showline": true,
         "showticklabels": true,
         "title": {
          "text": "Orders"
         },
         "visible": true
        },
        "yaxis": {
         "showline": false,
         "showticklabels": false,
         "title": {
          "text": "Store"
         },
         "visible": true
        }
       }
      },
      "text/html": [
       "<div>                            <div id=\"28a9bdba-e6e2-4c47-89f9-2329251ca867\" class=\"plotly-graph-div\" style=\"height:525px; width:100%;\"></div>            <script type=\"text/javascript\">                require([\"plotly\"], function(Plotly) {                    window.PLOTLYENV=window.PLOTLYENV || {};                                    if (document.getElementById(\"28a9bdba-e6e2-4c47-89f9-2329251ca867\")) {                    Plotly.newPlot(                        \"28a9bdba-e6e2-4c47-89f9-2329251ca867\",                        [{\"cliponaxis\": false, \"hoverinfo\": \"all\", \"marker\": {\"color\": [\"rgb(0, 234, 53)\", \"rgb(189, 23, 134)\", \"rgb(35, 46, 221)\", \"rgb(91, 229, 146)\", \"rgb(41, 210, 207)\", \"rgb(220, 230, 46)\", \"rgb(171, 70, 192)\", \"rgb(99, 96, 180)\", \"rgb(182, 29, 21)\", \"rgb(157, 154, 92)\"]}, \"orientation\": \"h\", \"textangle\": 0, \"textposition\": \"outside\", \"texttemplate\": \"%{y}<br>%{x:.4s}\", \"type\": \"bar\", \"x\": [535, 579, 1326, 1499, 1770, 2371, 2439, 2880, 4688, 13352], \"y\": [\"Morton Williams\", \"D'Agostino\", \"Westside Market\", \"Gristedes\", \"Albertsons\", \"Fresco y M\\u00e1s\", \"Fiesta Mart\", \"Randalls\", \"Tom Thumb\", \"Winn-Dixie\"]}],                        {\"bargap\": 0.15, \"font\": {\"size\": 14}, \"plot_bgcolor\": \"#FFFFFF\", \"sliders\": [{\"active\": 0, \"currentvalue\": {\"font\": {\"size\": 20}, \"prefix\": \"Date: \", \"visible\": true, \"xanchor\": \"right\"}, \"len\": 0.9, \"pad\": {\"b\": 10, \"t\": 50}, \"steps\": [{\"args\": [[\"2020-03\"], {\"frame\": {\"duration\": 800, \"redraw\": false}, \"mode\": \"immediate\", \"transition\": {\"duration\": 800}}], \"label\": \"2020-03\", \"method\": \"animate\"}, {\"args\": [[\"2020-04\"], {\"frame\": {\"duration\": 800, \"redraw\": false}, \"mode\": \"immediate\", \"transition\": {\"duration\": 800}}], \"label\": \"2020-04\", \"method\": \"animate\"}, {\"args\": [[\"2020-05\"], {\"frame\": {\"duration\": 800, \"redraw\": false}, \"mode\": \"immediate\", \"transition\": {\"duration\": 800}}], \"label\": \"2020-05\", \"method\": \"animate\"}, {\"args\": [[\"2020-06\"], {\"frame\": {\"duration\": 800, \"redraw\": false}, \"mode\": \"immediate\", \"transition\": {\"duration\": 800}}], \"label\": \"2020-06\", \"method\": \"animate\"}, {\"args\": [[\"2020-07\"], {\"frame\": {\"duration\": 800, \"redraw\": false}, \"mode\": \"immediate\", \"transition\": {\"duration\": 800}}], \"label\": \"2020-07\", \"method\": \"animate\"}, {\"args\": [[\"2020-08\"], {\"frame\": {\"duration\": 800, \"redraw\": false}, \"mode\": \"immediate\", \"transition\": {\"duration\": 800}}], \"label\": \"2020-08\", \"method\": \"animate\"}, {\"args\": [[\"2020-09\"], {\"frame\": {\"duration\": 800, \"redraw\": false}, \"mode\": \"immediate\", \"transition\": {\"duration\": 800}}], \"label\": \"2020-09\", \"method\": \"animate\"}, {\"args\": [[\"2020-10\"], {\"frame\": {\"duration\": 800, \"redraw\": false}, \"mode\": \"immediate\", \"transition\": {\"duration\": 800}}], \"label\": \"2020-10\", \"method\": \"animate\"}, {\"args\": [[\"2020-11\"], {\"frame\": {\"duration\": 800, \"redraw\": false}, \"mode\": \"immediate\", \"transition\": {\"duration\": 800}}], \"label\": \"2020-11\", \"method\": \"animate\"}, {\"args\": [[\"2020-12\"], {\"frame\": {\"duration\": 800, \"redraw\": false}, \"mode\": \"immediate\", \"transition\": {\"duration\": 800}}], \"label\": \"2020-12\", \"method\": \"animate\"}, {\"args\": [[\"2021-01\"], {\"frame\": {\"duration\": 800, \"redraw\": false}, \"mode\": \"immediate\", \"transition\": {\"duration\": 800}}], \"label\": \"2021-01\", \"method\": \"animate\"}], \"transition\": {\"duration\": 300, \"easing\": \"cubic-in-out\"}, \"x\": 0.1, \"xanchor\": \"left\", \"y\": 0, \"yanchor\": \"top\"}], \"template\": {\"data\": {\"bar\": [{\"error_x\": {\"color\": \"#2a3f5f\"}, \"error_y\": {\"color\": \"#2a3f5f\"}, \"marker\": {\"line\": {\"color\": \"#E5ECF6\", \"width\": 0.5}}, \"type\": \"bar\"}], \"barpolar\": [{\"marker\": {\"line\": {\"color\": \"#E5ECF6\", \"width\": 0.5}}, \"type\": \"barpolar\"}], \"carpet\": [{\"aaxis\": {\"endlinecolor\": \"#2a3f5f\", \"gridcolor\": \"white\", \"linecolor\": \"white\", \"minorgridcolor\": \"white\", \"startlinecolor\": \"#2a3f5f\"}, \"baxis\": {\"endlinecolor\": \"#2a3f5f\", \"gridcolor\": \"white\", \"linecolor\": \"white\", \"minorgridcolor\": \"white\", \"startlinecolor\": \"#2a3f5f\"}, \"type\": \"carpet\"}], \"choropleth\": [{\"colorbar\": {\"outlinewidth\": 0, \"ticks\": \"\"}, \"type\": \"choropleth\"}], \"contour\": [{\"colorbar\": {\"outlinewidth\": 0, \"ticks\": \"\"}, \"colorscale\": [[0.0, \"#0d0887\"], [0.1111111111111111, \"#46039f\"], [0.2222222222222222, \"#7201a8\"], [0.3333333333333333, \"#9c179e\"], [0.4444444444444444, \"#bd3786\"], [0.5555555555555556, \"#d8576b\"], [0.6666666666666666, \"#ed7953\"], [0.7777777777777778, \"#fb9f3a\"], [0.8888888888888888, \"#fdca26\"], [1.0, \"#f0f921\"]], \"type\": \"contour\"}], \"contourcarpet\": [{\"colorbar\": {\"outlinewidth\": 0, \"ticks\": \"\"}, \"type\": \"contourcarpet\"}], \"heatmap\": [{\"colorbar\": {\"outlinewidth\": 0, \"ticks\": \"\"}, \"colorscale\": [[0.0, \"#0d0887\"], [0.1111111111111111, \"#46039f\"], [0.2222222222222222, \"#7201a8\"], [0.3333333333333333, \"#9c179e\"], [0.4444444444444444, \"#bd3786\"], [0.5555555555555556, \"#d8576b\"], [0.6666666666666666, \"#ed7953\"], [0.7777777777777778, \"#fb9f3a\"], [0.8888888888888888, \"#fdca26\"], [1.0, \"#f0f921\"]], \"type\": \"heatmap\"}], \"heatmapgl\": [{\"colorbar\": {\"outlinewidth\": 0, \"ticks\": \"\"}, \"colorscale\": [[0.0, \"#0d0887\"], [0.1111111111111111, \"#46039f\"], [0.2222222222222222, \"#7201a8\"], [0.3333333333333333, \"#9c179e\"], [0.4444444444444444, \"#bd3786\"], [0.5555555555555556, \"#d8576b\"], [0.6666666666666666, \"#ed7953\"], [0.7777777777777778, \"#fb9f3a\"], [0.8888888888888888, \"#fdca26\"], [1.0, \"#f0f921\"]], \"type\": \"heatmapgl\"}], \"histogram\": [{\"marker\": {\"colorbar\": {\"outlinewidth\": 0, \"ticks\": \"\"}}, \"type\": \"histogram\"}], \"histogram2d\": [{\"colorbar\": {\"outlinewidth\": 0, \"ticks\": \"\"}, \"colorscale\": [[0.0, \"#0d0887\"], [0.1111111111111111, \"#46039f\"], [0.2222222222222222, \"#7201a8\"], [0.3333333333333333, \"#9c179e\"], [0.4444444444444444, \"#bd3786\"], [0.5555555555555556, \"#d8576b\"], [0.6666666666666666, \"#ed7953\"], [0.7777777777777778, \"#fb9f3a\"], [0.8888888888888888, \"#fdca26\"], [1.0, \"#f0f921\"]], \"type\": \"histogram2d\"}], \"histogram2dcontour\": [{\"colorbar\": {\"outlinewidth\": 0, \"ticks\": \"\"}, \"colorscale\": [[0.0, \"#0d0887\"], [0.1111111111111111, \"#46039f\"], [0.2222222222222222, \"#7201a8\"], [0.3333333333333333, \"#9c179e\"], [0.4444444444444444, \"#bd3786\"], [0.5555555555555556, \"#d8576b\"], [0.6666666666666666, \"#ed7953\"], [0.7777777777777778, \"#fb9f3a\"], [0.8888888888888888, \"#fdca26\"], [1.0, \"#f0f921\"]], \"type\": \"histogram2dcontour\"}], \"mesh3d\": [{\"colorbar\": {\"outlinewidth\": 0, \"ticks\": \"\"}, \"type\": \"mesh3d\"}], \"parcoords\": [{\"line\": {\"colorbar\": {\"outlinewidth\": 0, \"ticks\": \"\"}}, \"type\": \"parcoords\"}], \"pie\": [{\"automargin\": true, \"type\": \"pie\"}], \"scatter\": [{\"marker\": {\"colorbar\": {\"outlinewidth\": 0, \"ticks\": \"\"}}, \"type\": \"scatter\"}], \"scatter3d\": [{\"line\": {\"colorbar\": {\"outlinewidth\": 0, \"ticks\": \"\"}}, \"marker\": {\"colorbar\": {\"outlinewidth\": 0, \"ticks\": \"\"}}, \"type\": \"scatter3d\"}], \"scattercarpet\": [{\"marker\": {\"colorbar\": {\"outlinewidth\": 0, \"ticks\": \"\"}}, \"type\": \"scattercarpet\"}], \"scattergeo\": [{\"marker\": {\"colorbar\": {\"outlinewidth\": 0, \"ticks\": \"\"}}, \"type\": \"scattergeo\"}], \"scattergl\": [{\"marker\": {\"colorbar\": {\"outlinewidth\": 0, \"ticks\": \"\"}}, \"type\": \"scattergl\"}], \"scattermapbox\": [{\"marker\": {\"colorbar\": {\"outlinewidth\": 0, \"ticks\": \"\"}}, \"type\": \"scattermapbox\"}], \"scatterpolar\": [{\"marker\": {\"colorbar\": {\"outlinewidth\": 0, \"ticks\": \"\"}}, \"type\": \"scatterpolar\"}], \"scatterpolargl\": [{\"marker\": {\"colorbar\": {\"outlinewidth\": 0, \"ticks\": \"\"}}, \"type\": \"scatterpolargl\"}], \"scatterternary\": [{\"marker\": {\"colorbar\": {\"outlinewidth\": 0, \"ticks\": \"\"}}, \"type\": \"scatterternary\"}], \"surface\": [{\"colorbar\": {\"outlinewidth\": 0, \"ticks\": \"\"}, \"colorscale\": [[0.0, \"#0d0887\"], [0.1111111111111111, \"#46039f\"], [0.2222222222222222, \"#7201a8\"], [0.3333333333333333, \"#9c179e\"], [0.4444444444444444, \"#bd3786\"], [0.5555555555555556, \"#d8576b\"], [0.6666666666666666, \"#ed7953\"], [0.7777777777777778, \"#fb9f3a\"], [0.8888888888888888, \"#fdca26\"], [1.0, \"#f0f921\"]], \"type\": \"surface\"}], \"table\": [{\"cells\": {\"fill\": {\"color\": \"#EBF0F8\"}, \"line\": {\"color\": \"white\"}}, \"header\": {\"fill\": {\"color\": \"#C8D4E3\"}, \"line\": {\"color\": \"white\"}}, \"type\": \"table\"}]}, \"layout\": {\"annotationdefaults\": {\"arrowcolor\": \"#2a3f5f\", \"arrowhead\": 0, \"arrowwidth\": 1}, \"autotypenumbers\": \"strict\", \"coloraxis\": {\"colorbar\": {\"outlinewidth\": 0, \"ticks\": \"\"}}, \"colorscale\": {\"diverging\": [[0, \"#8e0152\"], [0.1, \"#c51b7d\"], [0.2, \"#de77ae\"], [0.3, \"#f1b6da\"], [0.4, \"#fde0ef\"], [0.5, \"#f7f7f7\"], [0.6, \"#e6f5d0\"], [0.7, \"#b8e186\"], [0.8, \"#7fbc41\"], [0.9, \"#4d9221\"], [1, \"#276419\"]], \"sequential\": [[0.0, \"#0d0887\"], [0.1111111111111111, \"#46039f\"], [0.2222222222222222, \"#7201a8\"], [0.3333333333333333, \"#9c179e\"], [0.4444444444444444, \"#bd3786\"], [0.5555555555555556, \"#d8576b\"], [0.6666666666666666, \"#ed7953\"], [0.7777777777777778, \"#fb9f3a\"], [0.8888888888888888, \"#fdca26\"], [1.0, \"#f0f921\"]], \"sequentialminus\": [[0.0, \"#0d0887\"], [0.1111111111111111, \"#46039f\"], [0.2222222222222222, \"#7201a8\"], [0.3333333333333333, \"#9c179e\"], [0.4444444444444444, \"#bd3786\"], [0.5555555555555556, \"#d8576b\"], [0.6666666666666666, \"#ed7953\"], [0.7777777777777778, \"#fb9f3a\"], [0.8888888888888888, \"#fdca26\"], [1.0, \"#f0f921\"]]}, \"colorway\": [\"#636efa\", \"#EF553B\", \"#00cc96\", \"#ab63fa\", \"#FFA15A\", \"#19d3f3\", \"#FF6692\", \"#B6E880\", \"#FF97FF\", \"#FECB52\"], \"font\": {\"color\": \"#2a3f5f\"}, \"geo\": {\"bgcolor\": \"white\", \"lakecolor\": \"white\", \"landcolor\": \"#E5ECF6\", \"showlakes\": true, \"showland\": true, \"subunitcolor\": \"white\"}, \"hoverlabel\": {\"align\": \"left\"}, \"hovermode\": \"closest\", \"mapbox\": {\"style\": \"light\"}, \"paper_bgcolor\": \"white\", \"plot_bgcolor\": \"#E5ECF6\", \"polar\": {\"angularaxis\": {\"gridcolor\": \"white\", \"linecolor\": \"white\", \"ticks\": \"\"}, \"bgcolor\": \"#E5ECF6\", \"radialaxis\": {\"gridcolor\": \"white\", \"linecolor\": \"white\", \"ticks\": \"\"}}, \"scene\": {\"xaxis\": {\"backgroundcolor\": \"#E5ECF6\", \"gridcolor\": \"white\", \"gridwidth\": 2, \"linecolor\": \"white\", \"showbackground\": true, \"ticks\": \"\", \"zerolinecolor\": \"white\"}, \"yaxis\": {\"backgroundcolor\": \"#E5ECF6\", \"gridcolor\": \"white\", \"gridwidth\": 2, \"linecolor\": \"white\", \"showbackground\": true, \"ticks\": \"\", \"zerolinecolor\": \"white\"}, \"zaxis\": {\"backgroundcolor\": \"#E5ECF6\", \"gridcolor\": \"white\", \"gridwidth\": 2, \"linecolor\": \"white\", \"showbackground\": true, \"ticks\": \"\", \"zerolinecolor\": \"white\"}}, \"shapedefaults\": {\"line\": {\"color\": \"#2a3f5f\"}}, \"ternary\": {\"aaxis\": {\"gridcolor\": \"white\", \"linecolor\": \"white\", \"ticks\": \"\"}, \"baxis\": {\"gridcolor\": \"white\", \"linecolor\": \"white\", \"ticks\": \"\"}, \"bgcolor\": \"#E5ECF6\", \"caxis\": {\"gridcolor\": \"white\", \"linecolor\": \"white\", \"ticks\": \"\"}}, \"title\": {\"x\": 0.05}, \"xaxis\": {\"automargin\": true, \"gridcolor\": \"white\", \"linecolor\": \"white\", \"ticks\": \"\", \"title\": {\"standoff\": 15}, \"zerolinecolor\": \"white\", \"zerolinewidth\": 2}, \"yaxis\": {\"automargin\": true, \"gridcolor\": \"white\", \"linecolor\": \"white\", \"ticks\": \"\", \"title\": {\"standoff\": 15}, \"zerolinecolor\": \"white\", \"zerolinewidth\": 2}}}, \"title\": {\"text\": \"Top 10 stores across the time\"}, \"updatemenus\": [{\"buttons\": [{\"args\": [null, {\"frame\": {\"duration\": 800, \"redraw\": false}, \"fromcurrent\": true, \"transition\": {\"duration\": 800, \"easing\": \"quadratic-in-out\"}}], \"label\": \"Play\", \"method\": \"animate\"}, {\"args\": [[null], {\"frame\": {\"duration\": 0, \"redraw\": false}, \"mode\": \"immediate\", \"transition\": {\"duration\": 0}}], \"label\": \"Pause\", \"method\": \"animate\"}], \"direction\": \"left\", \"pad\": {\"r\": 10, \"t\": 87}, \"showactive\": true, \"type\": \"buttons\", \"x\": 0.1, \"xanchor\": \"right\", \"y\": 0, \"yanchor\": \"top\"}], \"xaxis\": {\"range\": [0, 13352], \"showline\": true, \"showticklabels\": true, \"title\": {\"text\": \"Orders\"}, \"visible\": true}, \"yaxis\": {\"showline\": false, \"showticklabels\": false, \"title\": {\"text\": \"Store\"}, \"visible\": true}},                        {\"responsive\": true}                    ).then(function(){\n",
       "                            Plotly.addFrames('28a9bdba-e6e2-4c47-89f9-2329251ca867', [{\"data\": [{\"cliponaxis\": false, \"hoverinfo\": \"all\", \"hovertemplate\": \"<extra></extra>\", \"marker\": {\"color\": [\"rgb(150, 113, 37)\"]}, \"orientation\": \"h\", \"textangle\": 0, \"textposition\": \"outside\", \"texttemplate\": \"%{y}<br>%{x:.4s}\", \"x\": [2], \"y\": [\"Safeway\"], \"type\": \"bar\"}], \"layout\": {\"bargap\": 0.15, \"font\": {\"size\": 14}, \"plot_bgcolor\": \"#FFFFFF\", \"title\": {\"text\": \"Top 10 stores across the time\"}, \"xaxis\": {\"range\": [0, 13352], \"showline\": true, \"visible\": true}, \"yaxis\": {\"showline\": false, \"visible\": true}}, \"name\": \"2020-03\"}, {\"data\": [{\"cliponaxis\": false, \"hoverinfo\": \"all\", \"hovertemplate\": \"<extra></extra>\", \"marker\": {\"color\": [\"rgb(242, 122, 232)\", \"rgb(175, 246, 183)\", \"rgb(5, 239, 53)\", \"rgb(42, 58, 167)\", \"rgb(98, 47, 1)\", \"rgb(162, 34, 54)\", \"rgb(182, 29, 21)\", \"rgb(217, 176, 20)\", \"rgb(43, 25, 160)\", \"rgb(85, 54, 187)\"]}, \"orientation\": \"h\", \"textangle\": 0, \"textposition\": \"outside\", \"texttemplate\": \"%{y}<br>%{x:.4s}\", \"x\": [3, 4, 5, 10, 14, 21, 22, 30, 100, 185], \"y\": [\"Wild Fork\", \"Sam's Club\", \"Panna\", \"ALDI\", \"Publix Super Market\", \"Sedano's Supermarket\", \"Tom Thumb\", \"Central Market\", \"Target\", \"Walmart\"], \"type\": \"bar\"}], \"layout\": {\"bargap\": 0.15, \"font\": {\"size\": 14}, \"plot_bgcolor\": \"#FFFFFF\", \"title\": {\"text\": \"Top 10 stores across the time\"}, \"xaxis\": {\"range\": [0, 13352], \"showline\": true, \"visible\": true}, \"yaxis\": {\"showline\": false, \"visible\": true}}, \"name\": \"2020-04\"}, {\"data\": [{\"cliponaxis\": false, \"hoverinfo\": \"all\", \"hovertemplate\": \"<extra></extra>\", \"marker\": {\"color\": [\"rgb(179, 63, 25)\", \"rgb(43, 25, 160)\", \"rgb(217, 176, 20)\", \"rgb(91, 112, 210)\", \"rgb(147, 149, 226)\", \"rgb(242, 122, 232)\", \"rgb(138, 25, 221)\", \"rgb(42, 58, 167)\", \"rgb(98, 47, 1)\", \"rgb(85, 54, 187)\"]}, \"orientation\": \"h\", \"textangle\": 0, \"textposition\": \"outside\", \"texttemplate\": \"%{y}<br>%{x:.4s}\", \"x\": [23, 29, 33, 36, 40, 42, 51, 135, 213, 745], \"y\": [\"Milam's Markets\", \"Target\", \"Central Market\", \"Costco\", \"Eatzi\\u2019s Market & Bakery Oak Lawn\", \"Wild Fork\", \"Kroger\", \"ALDI\", \"Publix Super Market\", \"Walmart\"], \"type\": \"bar\"}], \"layout\": {\"bargap\": 0.15, \"font\": {\"size\": 14}, \"plot_bgcolor\": \"#FFFFFF\", \"title\": {\"text\": \"Top 10 stores across the time\"}, \"xaxis\": {\"range\": [0, 13352], \"showline\": true, \"visible\": true}, \"yaxis\": {\"showline\": false, \"visible\": true}}, \"name\": \"2020-05\"}, {\"data\": [{\"cliponaxis\": false, \"hoverinfo\": \"all\", \"hovertemplate\": \"<extra></extra>\", \"marker\": {\"color\": [\"rgb(102, 192, 74)\", \"rgb(244, 40, 123)\", \"rgb(15, 157, 4)\", \"rgb(175, 246, 183)\", \"rgb(86, 227, 13)\", \"rgb(242, 122, 232)\", \"rgb(147, 149, 226)\", \"rgb(43, 25, 160)\", \"rgb(163, 229, 41)\", \"rgb(85, 54, 187)\"]}, \"orientation\": \"h\", \"textangle\": 0, \"textposition\": \"outside\", \"texttemplate\": \"%{y}<br>%{x:.4s}\", \"x\": [8, 8, 9, 14, 25, 33, 36, 93, 113, 648], \"y\": [\"Petco\", \"Graziano's\", \"Fireman Derek's\", \"Sam's Club\", \"Sabor Tropical Supermarket\", \"Wild Fork\", \"Eatzi\\u2019s Market & Bakery Oak Lawn\", \"Target\", \"Supermarket Express\", \"Walmart\"], \"type\": \"bar\"}], \"layout\": {\"bargap\": 0.15, \"font\": {\"size\": 14}, \"plot_bgcolor\": \"#FFFFFF\", \"title\": {\"text\": \"Top 10 stores across the time\"}, \"xaxis\": {\"range\": [0, 13352], \"showline\": true, \"visible\": true}, \"yaxis\": {\"showline\": false, \"visible\": true}}, \"name\": \"2020-06\"}, {\"data\": [{\"cliponaxis\": false, \"hoverinfo\": \"all\", \"hovertemplate\": \"<extra></extra>\", \"marker\": {\"color\": [\"rgb(245, 210, 21)\", \"rgb(8, 43, 122)\", \"rgb(244, 40, 123)\", \"rgb(19, 74, 99)\", \"rgb(27, 97, 122)\", \"rgb(86, 227, 13)\", \"rgb(147, 149, 226)\", \"rgb(242, 122, 232)\", \"rgb(157, 154, 92)\", \"rgb(163, 229, 41)\"]}, \"orientation\": \"h\", \"textangle\": 0, \"textposition\": \"outside\", \"texttemplate\": \"%{y}<br>%{x:.4s}\", \"x\": [6, 6, 8, 8, 8, 20, 32, 35, 96, 398], \"y\": [\"Gourmeat\", \"Foxtrot Market Uptown\", \"Graziano's\", \"San Martin Bakery Uptown\", \"Casa Blanca Fish Market\", \"Sabor Tropical Supermarket\", \"Eatzi\\u2019s Market & Bakery Oak Lawn\", \"Wild Fork\", \"Winn-Dixie\", \"Supermarket Express\"], \"type\": \"bar\"}], \"layout\": {\"bargap\": 0.15, \"font\": {\"size\": 14}, \"plot_bgcolor\": \"#FFFFFF\", \"title\": {\"text\": \"Top 10 stores across the time\"}, \"xaxis\": {\"range\": [0, 13352], \"showline\": true, \"visible\": true}, \"yaxis\": {\"showline\": false, \"visible\": true}}, \"name\": \"2020-07\"}, {\"data\": [{\"cliponaxis\": false, \"hoverinfo\": \"all\", \"hovertemplate\": \"<extra></extra>\", \"marker\": {\"color\": [\"rgb(84, 122, 157)\", \"rgb(188, 157, 130)\", \"rgb(29, 23, 241)\", \"rgb(237, 107, 216)\", \"rgb(19, 74, 99)\", \"rgb(102, 192, 74)\", \"rgb(147, 149, 226)\", \"rgb(220, 230, 46)\", \"rgb(157, 154, 92)\", \"rgb(163, 229, 41)\"]}, \"orientation\": \"h\", \"textangle\": 0, \"textposition\": \"outside\", \"texttemplate\": \"%{y}<br>%{x:.4s}\", \"x\": [5, 5, 6, 6, 7, 13, 32, 81, 253, 361], \"y\": [\"Smallcakes Preston\", \"Zerpa's Antojos Criollos\", \"Meat N' Bone\", \"Lombardi's Seafood\", \"San Martin Bakery Uptown\", \"Petco\", \"Eatzi\\u2019s Market & Bakery Oak Lawn\", \"Fresco y M\\u00e1s\", \"Winn-Dixie\", \"Supermarket Express\"], \"type\": \"bar\"}], \"layout\": {\"bargap\": 0.15, \"font\": {\"size\": 14}, \"plot_bgcolor\": \"#FFFFFF\", \"title\": {\"text\": \"Top 10 stores across the time\"}, \"xaxis\": {\"range\": [0, 13352], \"showline\": true, \"visible\": true}, \"yaxis\": {\"showline\": false, \"visible\": true}}, \"name\": \"2020-08\"}, {\"data\": [{\"cliponaxis\": false, \"hoverinfo\": \"all\", \"hovertemplate\": \"<extra></extra>\", \"marker\": {\"color\": [\"rgb(237, 107, 216)\", \"rgb(113, 197, 144)\", \"rgb(188, 157, 130)\", \"rgb(244, 40, 123)\", \"rgb(29, 23, 241)\", \"rgb(147, 149, 226)\", \"rgb(102, 192, 74)\", \"rgb(163, 229, 41)\", \"rgb(220, 230, 46)\", \"rgb(157, 154, 92)\"]}, \"orientation\": \"h\", \"textangle\": 0, \"textposition\": \"outside\", \"texttemplate\": \"%{y}<br>%{x:.4s}\", \"x\": [18, 19, 34, 34, 59, 86, 109, 191, 769, 2285], \"y\": [\"Lombardi's Seafood\", \"Farm2cook\", \"Zerpa's Antojos Criollos\", \"Graziano's\", \"Meat N' Bone\", \"Eatzi\\u2019s Market & Bakery Oak Lawn\", \"Petco\", \"Supermarket Express\", \"Fresco y M\\u00e1s\", \"Winn-Dixie\"], \"type\": \"bar\"}], \"layout\": {\"bargap\": 0.15, \"font\": {\"size\": 14}, \"plot_bgcolor\": \"#FFFFFF\", \"title\": {\"text\": \"Top 10 stores across the time\"}, \"xaxis\": {\"range\": [0, 13352], \"showline\": true, \"visible\": true}, \"yaxis\": {\"showline\": false, \"visible\": true}}, \"name\": \"2020-09\"}, {\"data\": [{\"cliponaxis\": false, \"hoverinfo\": \"all\", \"hovertemplate\": \"<extra></extra>\", \"marker\": {\"color\": [\"rgb(182, 29, 21)\", \"rgb(244, 40, 123)\", \"rgb(189, 23, 134)\", \"rgb(75, 48, 94)\", \"rgb(147, 149, 226)\", \"rgb(102, 192, 74)\", \"rgb(91, 229, 146)\", \"rgb(35, 46, 221)\", \"rgb(220, 230, 46)\", \"rgb(157, 154, 92)\"]}, \"orientation\": \"h\", \"textangle\": 0, \"textposition\": \"outside\", \"texttemplate\": \"%{y}<br>%{x:.4s}\", \"x\": [84, 95, 104, 105, 126, 130, 184, 787, 1722, 6606], \"y\": [\"Tom Thumb\", \"Graziano's\", \"D'Agostino\", \"Cox Farms Market\", \"Eatzi\\u2019s Market & Bakery Oak Lawn\", \"Petco\", \"Gristedes\", \"Westside Market\", \"Fresco y M\\u00e1s\", \"Winn-Dixie\"], \"type\": \"bar\"}], \"layout\": {\"bargap\": 0.15, \"font\": {\"size\": 14}, \"plot_bgcolor\": \"#FFFFFF\", \"title\": {\"text\": \"Top 10 stores across the time\"}, \"xaxis\": {\"range\": [0, 13352], \"showline\": true, \"visible\": true}, \"yaxis\": {\"showline\": false, \"visible\": true}}, \"name\": \"2020-10\"}, {\"data\": [{\"cliponaxis\": false, \"hoverinfo\": \"all\", \"hovertemplate\": \"<extra></extra>\", \"marker\": {\"color\": [\"rgb(244, 40, 123)\", \"rgb(189, 23, 134)\", \"rgb(91, 229, 146)\", \"rgb(171, 70, 192)\", \"rgb(41, 210, 207)\", \"rgb(35, 46, 221)\", \"rgb(99, 96, 180)\", \"rgb(220, 230, 46)\", \"rgb(182, 29, 21)\", \"rgb(157, 154, 92)\"]}, \"orientation\": \"h\", \"textangle\": 0, \"textposition\": \"outside\", \"texttemplate\": \"%{y}<br>%{x:.4s}\", \"x\": [97, 436, 674, 710, 740, 1170, 1357, 1771, 2340, 8520], \"y\": [\"Graziano's\", \"D'Agostino\", \"Gristedes\", \"Fiesta Mart\", \"Albertsons\", \"Westside Market\", \"Randalls\", \"Fresco y M\\u00e1s\", \"Tom Thumb\", \"Winn-Dixie\"], \"type\": \"bar\"}], \"layout\": {\"bargap\": 0.15, \"font\": {\"size\": 14}, \"plot_bgcolor\": \"#FFFFFF\", \"title\": {\"text\": \"Top 10 stores across the time\"}, \"xaxis\": {\"range\": [0, 13352], \"showline\": true, \"visible\": true}, \"yaxis\": {\"showline\": false, \"visible\": true}}, \"name\": \"2020-11\"}, {\"data\": [{\"cliponaxis\": false, \"hoverinfo\": \"all\", \"hovertemplate\": \"<extra></extra>\", \"marker\": {\"color\": [\"rgb(122, 42, 189)\", \"rgb(189, 23, 134)\", \"rgb(91, 229, 146)\", \"rgb(41, 210, 207)\", \"rgb(35, 46, 221)\", \"rgb(171, 70, 192)\", \"rgb(99, 96, 180)\", \"rgb(220, 230, 46)\", \"rgb(182, 29, 21)\", \"rgb(157, 154, 92)\"]}, \"orientation\": \"h\", \"textangle\": 0, \"textposition\": \"outside\", \"texttemplate\": \"%{y}<br>%{x:.4s}\", \"x\": [230, 508, 955, 1152, 1176, 1291, 1776, 1876, 3381, 9892], \"y\": [\"Streets Market\", \"D'Agostino\", \"Gristedes\", \"Albertsons\", \"Westside Market\", \"Fiesta Mart\", \"Randalls\", \"Fresco y M\\u00e1s\", \"Tom Thumb\", \"Winn-Dixie\"], \"type\": \"bar\"}], \"layout\": {\"bargap\": 0.15, \"font\": {\"size\": 14}, \"plot_bgcolor\": \"#FFFFFF\", \"title\": {\"text\": \"Top 10 stores across the time\"}, \"xaxis\": {\"range\": [0, 13352], \"showline\": true, \"visible\": true}, \"yaxis\": {\"showline\": false, \"visible\": true}}, \"name\": \"2020-12\"}, {\"data\": [{\"cliponaxis\": false, \"hoverinfo\": \"all\", \"hovertemplate\": \"<extra></extra>\", \"marker\": {\"color\": [\"rgb(0, 234, 53)\", \"rgb(189, 23, 134)\", \"rgb(35, 46, 221)\", \"rgb(91, 229, 146)\", \"rgb(41, 210, 207)\", \"rgb(220, 230, 46)\", \"rgb(171, 70, 192)\", \"rgb(99, 96, 180)\", \"rgb(182, 29, 21)\", \"rgb(157, 154, 92)\"]}, \"orientation\": \"h\", \"textangle\": 0, \"textposition\": \"outside\", \"texttemplate\": \"%{y}<br>%{x:.4s}\", \"x\": [535, 579, 1326, 1499, 1770, 2371, 2439, 2880, 4688, 13352], \"y\": [\"Morton Williams\", \"D'Agostino\", \"Westside Market\", \"Gristedes\", \"Albertsons\", \"Fresco y M\\u00e1s\", \"Fiesta Mart\", \"Randalls\", \"Tom Thumb\", \"Winn-Dixie\"], \"type\": \"bar\"}], \"layout\": {\"bargap\": 0.15, \"font\": {\"size\": 14}, \"plot_bgcolor\": \"#FFFFFF\", \"title\": {\"text\": \"Top 10 stores across the time\"}, \"xaxis\": {\"range\": [0, 13352], \"showline\": true, \"visible\": true}, \"yaxis\": {\"showline\": false, \"visible\": true}}, \"name\": \"2021-01\"}]);\n",
       "                        }).then(function(){\n",
       "                            \n",
       "var gd = document.getElementById('28a9bdba-e6e2-4c47-89f9-2329251ca867');\n",
       "var x = new MutationObserver(function (mutations, observer) {{\n",
       "        var display = window.getComputedStyle(gd).display;\n",
       "        if (!display || display === 'none') {{\n",
       "            console.log([gd, 'removed!']);\n",
       "            Plotly.purge(gd);\n",
       "            observer.disconnect();\n",
       "        }}\n",
       "}});\n",
       "\n",
       "// Listen for the removal of the full notebook cells\n",
       "var notebookContainer = gd.closest('#notebook-container');\n",
       "if (notebookContainer) {{\n",
       "    x.observe(notebookContainer, {childList: true});\n",
       "}}\n",
       "\n",
       "// Listen for the clearing of the current output cell\n",
       "var outputEl = gd.closest('.output');\n",
       "if (outputEl) {{\n",
       "    x.observe(outputEl, {childList: true});\n",
       "}}\n",
       "\n",
       "                        })                };                });            </script>        </div>"
      ]
     },
     "metadata": {},
     "output_type": "display_data"
    }
   ],
   "source": [
    "my_raceplot = barplot(us,\n",
    "                      item_column='store',\n",
    "                      value_column='orders',\n",
    "                      time_column='month',top_entries=10)\n",
    "\n",
    "my_raceplot=my_raceplot.plot(title = 'Top 10 stores across the time',\n",
    "                 item_label = 'Store',\n",
    "                 value_label = 'Orders',\n",
    "                 frame_duration = 800,initial_frame='2021-01'\n",
    "                )\n",
    "\n",
    "\n",
    "my_raceplot.write_html(file = output_path+'raceplot_us.html')\n",
    "my_raceplot"
   ]
  }
 ],
 "metadata": {
  "kernelspec": {
   "display_name": "Python 3",
   "language": "python",
   "name": "python3"
  },
  "language_info": {
   "codemirror_mode": {
    "name": "ipython",
    "version": 3
   },
   "file_extension": ".py",
   "mimetype": "text/x-python",
   "name": "python",
   "nbconvert_exporter": "python",
   "pygments_lexer": "ipython3",
   "version": "3.8.5"
  }
 },
 "nbformat": 4,
 "nbformat_minor": 4
}
