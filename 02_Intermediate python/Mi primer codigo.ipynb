{
 "cells": [
  {
   "cell_type": "code",
   "execution_count": 1,
   "metadata": {},
   "outputs": [],
   "source": [
    "import pandas as pd\n",
    "import numpy as np\n",
    "import matplotlib.pyplot as plt\n",
    "import seaborn as sns"
   ]
  },
  {
   "cell_type": "code",
   "execution_count": 6,
   "metadata": {},
   "outputs": [],
   "source": [
    "df= pd.read_csv('/Users/ivanjardon/Downloads/20201123_Sampling 12372.csv')"
   ]
  },
  {
   "cell_type": "code",
   "execution_count": 7,
   "metadata": {},
   "outputs": [
    {
     "data": {
      "text/html": [
       "<div>\n",
       "<style scoped>\n",
       "    .dataframe tbody tr th:only-of-type {\n",
       "        vertical-align: middle;\n",
       "    }\n",
       "\n",
       "    .dataframe tbody tr th {\n",
       "        vertical-align: top;\n",
       "    }\n",
       "\n",
       "    .dataframe thead th {\n",
       "        text-align: right;\n",
       "    }\n",
       "</style>\n",
       "<table border=\"1\" class=\"dataframe\">\n",
       "  <thead>\n",
       "    <tr style=\"text-align: right;\">\n",
       "      <th></th>\n",
       "      <th>project_id</th>\n",
       "      <th>project_name</th>\n",
       "      <th>order_kind</th>\n",
       "      <th>external_id</th>\n",
       "      <th>image_url</th>\n",
       "      <th>actual_delivery_time</th>\n",
       "      <th>bc_budget_used</th>\n",
       "    </tr>\n",
       "  </thead>\n",
       "  <tbody>\n",
       "    <tr>\n",
       "      <th>0</th>\n",
       "      <td>12372</td>\n",
       "      <td>Sampling Segmentado Elite Toalla Cocina Nov Di...</td>\n",
       "      <td>GIFT_ORDER</td>\n",
       "      <td>MX-702262-6616079</td>\n",
       "      <td>https://superpal.s3.amazonaws.com:443/receipt-...</td>\n",
       "      <td>2020-11-23T12:32:27.42692</td>\n",
       "      <td>17.5</td>\n",
       "    </tr>\n",
       "    <tr>\n",
       "      <th>1</th>\n",
       "      <td>12372</td>\n",
       "      <td>Sampling Segmentado Elite Toalla Cocina Nov Di...</td>\n",
       "      <td>GIFT_ORDER</td>\n",
       "      <td>MX-810808-3719097</td>\n",
       "      <td>https://superpal.s3.amazonaws.com:443/receipt-...</td>\n",
       "      <td>2020-11-23T13:27:48.970967</td>\n",
       "      <td>17.5</td>\n",
       "    </tr>\n",
       "    <tr>\n",
       "      <th>2</th>\n",
       "      <td>12372</td>\n",
       "      <td>Sampling Segmentado Elite Toalla Cocina Nov Di...</td>\n",
       "      <td>GIFT_ORDER</td>\n",
       "      <td>MX-796791-9614623</td>\n",
       "      <td>https://superpal.s3.amazonaws.com:443/receipt-...</td>\n",
       "      <td>2020-11-23T08:22:48.333516</td>\n",
       "      <td>17.5</td>\n",
       "    </tr>\n",
       "    <tr>\n",
       "      <th>3</th>\n",
       "      <td>12372</td>\n",
       "      <td>Sampling Segmentado Elite Toalla Cocina Nov Di...</td>\n",
       "      <td>GIFT_ORDER</td>\n",
       "      <td>MX-395646-8744007</td>\n",
       "      <td>https://superpal.s3.amazonaws.com:443/receipt-...</td>\n",
       "      <td>2020-11-23T11:57:41.568723</td>\n",
       "      <td>17.5</td>\n",
       "    </tr>\n",
       "    <tr>\n",
       "      <th>4</th>\n",
       "      <td>12372</td>\n",
       "      <td>Sampling Segmentado Elite Toalla Cocina Nov Di...</td>\n",
       "      <td>GIFT_ORDER</td>\n",
       "      <td>MX-082159-9443361</td>\n",
       "      <td>https://superpal.s3.amazonaws.com:443/receipt-...</td>\n",
       "      <td>2020-11-23T12:45:46.762129</td>\n",
       "      <td>17.5</td>\n",
       "    </tr>\n",
       "  </tbody>\n",
       "</table>\n",
       "</div>"
      ],
      "text/plain": [
       "   project_id                                       project_name  order_kind  \\\n",
       "0       12372  Sampling Segmentado Elite Toalla Cocina Nov Di...  GIFT_ORDER   \n",
       "1       12372  Sampling Segmentado Elite Toalla Cocina Nov Di...  GIFT_ORDER   \n",
       "2       12372  Sampling Segmentado Elite Toalla Cocina Nov Di...  GIFT_ORDER   \n",
       "3       12372  Sampling Segmentado Elite Toalla Cocina Nov Di...  GIFT_ORDER   \n",
       "4       12372  Sampling Segmentado Elite Toalla Cocina Nov Di...  GIFT_ORDER   \n",
       "\n",
       "         external_id                                          image_url  \\\n",
       "0  MX-702262-6616079  https://superpal.s3.amazonaws.com:443/receipt-...   \n",
       "1  MX-810808-3719097  https://superpal.s3.amazonaws.com:443/receipt-...   \n",
       "2  MX-796791-9614623  https://superpal.s3.amazonaws.com:443/receipt-...   \n",
       "3  MX-395646-8744007  https://superpal.s3.amazonaws.com:443/receipt-...   \n",
       "4  MX-082159-9443361  https://superpal.s3.amazonaws.com:443/receipt-...   \n",
       "\n",
       "         actual_delivery_time  bc_budget_used  \n",
       "0   2020-11-23T12:32:27.42692            17.5  \n",
       "1  2020-11-23T13:27:48.970967            17.5  \n",
       "2  2020-11-23T08:22:48.333516            17.5  \n",
       "3  2020-11-23T11:57:41.568723            17.5  \n",
       "4  2020-11-23T12:45:46.762129            17.5  "
      ]
     },
     "execution_count": 7,
     "metadata": {},
     "output_type": "execute_result"
    }
   ],
   "source": [
    "df.head()"
   ]
  },
  {
   "cell_type": "code",
   "execution_count": 8,
   "metadata": {},
   "outputs": [
    {
     "data": {
      "text/plain": [
       "project_id                int64\n",
       "project_name             object\n",
       "order_kind               object\n",
       "external_id              object\n",
       "image_url                object\n",
       "actual_delivery_time     object\n",
       "bc_budget_used          float64\n",
       "dtype: object"
      ]
     },
     "execution_count": 8,
     "metadata": {},
     "output_type": "execute_result"
    }
   ],
   "source": [
    "df.dtypes"
   ]
  },
  {
   "cell_type": "code",
   "execution_count": 9,
   "metadata": {},
   "outputs": [
    {
     "data": {
      "text/html": [
       "<div>\n",
       "<style scoped>\n",
       "    .dataframe tbody tr th:only-of-type {\n",
       "        vertical-align: middle;\n",
       "    }\n",
       "\n",
       "    .dataframe tbody tr th {\n",
       "        vertical-align: top;\n",
       "    }\n",
       "\n",
       "    .dataframe thead th {\n",
       "        text-align: right;\n",
       "    }\n",
       "</style>\n",
       "<table border=\"1\" class=\"dataframe\">\n",
       "  <thead>\n",
       "    <tr style=\"text-align: right;\">\n",
       "      <th></th>\n",
       "      <th>project_id</th>\n",
       "      <th>bc_budget_used</th>\n",
       "    </tr>\n",
       "  </thead>\n",
       "  <tbody>\n",
       "    <tr>\n",
       "      <th>count</th>\n",
       "      <td>218.0</td>\n",
       "      <td>218.000000</td>\n",
       "    </tr>\n",
       "    <tr>\n",
       "      <th>mean</th>\n",
       "      <td>12372.0</td>\n",
       "      <td>17.620642</td>\n",
       "    </tr>\n",
       "    <tr>\n",
       "      <th>std</th>\n",
       "      <td>0.0</td>\n",
       "      <td>0.220202</td>\n",
       "    </tr>\n",
       "    <tr>\n",
       "      <th>min</th>\n",
       "      <td>12372.0</td>\n",
       "      <td>17.400000</td>\n",
       "    </tr>\n",
       "    <tr>\n",
       "      <th>25%</th>\n",
       "      <td>12372.0</td>\n",
       "      <td>17.500000</td>\n",
       "    </tr>\n",
       "    <tr>\n",
       "      <th>50%</th>\n",
       "      <td>12372.0</td>\n",
       "      <td>17.500000</td>\n",
       "    </tr>\n",
       "    <tr>\n",
       "      <th>75%</th>\n",
       "      <td>12372.0</td>\n",
       "      <td>17.500000</td>\n",
       "    </tr>\n",
       "    <tr>\n",
       "      <th>max</th>\n",
       "      <td>12372.0</td>\n",
       "      <td>18.400000</td>\n",
       "    </tr>\n",
       "  </tbody>\n",
       "</table>\n",
       "</div>"
      ],
      "text/plain": [
       "       project_id  bc_budget_used\n",
       "count       218.0      218.000000\n",
       "mean      12372.0       17.620642\n",
       "std           0.0        0.220202\n",
       "min       12372.0       17.400000\n",
       "25%       12372.0       17.500000\n",
       "50%       12372.0       17.500000\n",
       "75%       12372.0       17.500000\n",
       "max       12372.0       18.400000"
      ]
     },
     "execution_count": 9,
     "metadata": {},
     "output_type": "execute_result"
    }
   ],
   "source": [
    "df.describe()"
   ]
  },
  {
   "cell_type": "code",
   "execution_count": 6,
   "metadata": {},
   "outputs": [
    {
     "name": "stderr",
     "output_type": "stream",
     "text": [
      "UsageError: Line magic function `%plt.scatter(df.actual_delivery_time,df.bc_budget_used)` not found.\n"
     ]
    }
   ],
   "source": [
    "from matplotlib import pyplot as plt\n",
    "\n",
    "%matplotlib inline\n",
    "\n",
    "%plt.scatter(df.actual_delivery_time,df.bc_budget_used)\n"
   ]
  }
 ],
 "metadata": {
  "kernelspec": {
   "display_name": "Python 3",
   "language": "python",
   "name": "python3"
  },
  "language_info": {
   "codemirror_mode": {
    "name": "ipython",
    "version": 3
   },
   "file_extension": ".py",
   "mimetype": "text/x-python",
   "name": "python",
   "nbconvert_exporter": "python",
   "pygments_lexer": "ipython3",
   "version": "3.8.5"
  }
 },
 "nbformat": 4,
 "nbformat_minor": 4
}
